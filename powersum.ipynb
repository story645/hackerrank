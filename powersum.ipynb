{
 "cells": [
  {
   "cell_type": "markdown",
   "metadata": {},
   "source": [
    "# https://www.hackerrank.com/challenges/the-power-sum/problem\n",
    "\n",
    "Find the number of ways that a given integer, $X$ , can be expressed as the sum of the $N^{th}$  powers of unique, natural numbers:\n",
    "\n",
    "Given $X=13$, $N=2$, the only possible summation is $13=2^2 + 3^2$, so output is $1$\n",
    "\n",
    "## input\n",
    "* __first line__: $1 \\leq X \\leq 1000$\n",
    "* __second line__: $2 \\leq N \\leq 10$\n"
   ]
  },
  {
   "cell_type": "code",
   "execution_count": 2,
   "metadata": {},
   "outputs": [],
   "source": [
    "import collections\n",
    "import os\n",
    "import math"
   ]
  },
  {
   "cell_type": "code",
   "execution_count": 2,
   "metadata": {},
   "outputs": [],
   "source": [
    "# Complete the powerSum function below.\n",
    "def powerSum(X, N):\n",
    "    # take X and divide by small number - prime factorization\n",
    "    divisors = collections.defaultdict(int)\n",
    "    while X%2 == 0:\n",
    "        divisors[2] += 1\n",
    "        X /= 2\n",
    "    return divisors"
   ]
  },
  {
   "cell_type": "markdown",
   "metadata": {},
   "source": [
    "### Sample Input 0:\n",
    "* X = 10\n",
    "* N = 2\n",
    "* Output = 1\n",
    "\n",
    "$10 = 3^2 + 1^2$"
   ]
  },
  {
   "cell_type": "markdown",
   "metadata": {},
   "source": [
    "HINT: Discrete and Combinatorial Math (Grimaldi) Chapter 9.3, partitions of integers\n",
    "take biggest square, then subtract, then try next:\n",
    "\n",
    "breakdown 100:\n",
    "\n",
    "if math.sqrt(x) == math.floor(math.sqrt(x))\n",
    "\n",
    "count_unique = 0 # counter of unique solutions\n",
    "X # is the input variable \n",
    "find if 10 is a perfect square - \n",
    "\n",
    "X = 100\n",
    "N = 2\n",
    "\n",
    "if yes : count_unique ++ \n",
    "if no: try X--\n",
    "    find if next_biggest = X-- is a perfect square\n",
    "    if yes: \n",
    "        R = X - (next_biggest)\n",
    "        10 = 9 + 1\n",
    "        if is_perfect(R): count_unique++ 10 = 9 + 1 \n",
    "        if not is_perfect(R): \n",
    "        \n",
    "        \n",
    "        \n",
    "        \n",
    "        "
   ]
  },
  {
   "cell_type": "code",
   "execution_count": 20,
   "metadata": {},
   "outputs": [
    {
     "data": {
      "text/plain": [
       "(3.1622776601683795, 3.0, 3, 4)"
      ]
     },
     "execution_count": 20,
     "metadata": {},
     "output_type": "execute_result"
    }
   ],
   "source": [
    "math.sqrt(10), math.sqrt(9), math.floor(3.0), math.ceil(3.01)"
   ]
  },
  {
   "cell_type": "code",
   "execution_count": 24,
   "metadata": {},
   "outputs": [
    {
     "data": {
      "text/plain": [
       "False"
      ]
     },
     "execution_count": 24,
     "metadata": {},
     "output_type": "execute_result"
    }
   ],
   "source": [
    "x = 10 \n",
    "math.sqrt(x) == math.floor(math.sqrt(x))"
   ]
  },
  {
   "cell_type": "code",
   "execution_count": 9,
   "metadata": {},
   "outputs": [
    {
     "data": {
      "text/plain": [
       "defaultdict(int, {2: 1})"
      ]
     },
     "execution_count": 9,
     "metadata": {},
     "output_type": "execute_result"
    }
   ],
   "source": [
    "powerSum(10,2)"
   ]
  },
  {
   "cell_type": "markdown",
   "metadata": {},
   "source": [
    "###  Sample Input 1\n",
    "* X = 100\n",
    "* N = 2\n",
    "* Output = 3"
   ]
  },
  {
   "cell_type": "markdown",
   "metadata": {},
   "source": [
    "### Sample Input 2\n",
    "* X = 100\n",
    "* N = 3\n",
    "* Output = 1"
   ]
  },
  {
   "cell_type": "markdown",
   "metadata": {},
   "source": [
    "## Main"
   ]
  },
  {
   "cell_type": "code",
   "execution_count": 4,
   "metadata": {},
   "outputs": [],
   "source": [
    "  os.environ['OUTPUT_PATH'] = \"test.txt\""
   ]
  },
  {
   "cell_type": "code",
   "execution_count": null,
   "metadata": {},
   "outputs": [],
   "source": [
    "with open(os.environ['OUTPUT_PATH'], 'w') as fptr:\n",
    "    X = int(input())\n",
    "    N = int(input())\n",
    "    result = powerSum(X, N)\n",
    "    print(f'{result}', file=fptr)"
   ]
  },
  {
   "cell_type": "markdown",
   "metadata": {},
   "source": [
    "Look at output file"
   ]
  },
  {
   "cell_type": "code",
   "execution_count": 7,
   "metadata": {},
   "outputs": [],
   "source": [
    "more test.txt"
   ]
  }
 ],
 "metadata": {
  "kernelspec": {
   "display_name": "Python 3",
   "language": "python",
   "name": "python3"
  },
  "language_info": {
   "codemirror_mode": {
    "name": "ipython",
    "version": 3
   },
   "file_extension": ".py",
   "mimetype": "text/x-python",
   "name": "python",
   "nbconvert_exporter": "python",
   "pygments_lexer": "ipython3",
   "version": "3.8.2"
  },
  "varInspector": {
   "cols": {
    "lenName": 16,
    "lenType": 16,
    "lenVar": 40
   },
   "kernels_config": {
    "python": {
     "delete_cmd_postfix": "",
     "delete_cmd_prefix": "del ",
     "library": "var_list.py",
     "varRefreshCmd": "print(var_dic_list())"
    },
    "r": {
     "delete_cmd_postfix": ") ",
     "delete_cmd_prefix": "rm(",
     "library": "var_list.r",
     "varRefreshCmd": "cat(var_dic_list()) "
    }
   },
   "types_to_exclude": [
    "module",
    "function",
    "builtin_function_or_method",
    "instance",
    "_Feature"
   ],
   "window_display": false
  }
 },
 "nbformat": 4,
 "nbformat_minor": 4
}
